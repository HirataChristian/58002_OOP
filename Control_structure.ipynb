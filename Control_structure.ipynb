{
  "nbformat": 4,
  "nbformat_minor": 0,
  "metadata": {
    "colab": {
      "provenance": [],
      "authorship_tag": "ABX9TyMMdxevBtNGKZQ8qe6Lhzu7",
      "include_colab_link": true
    },
    "kernelspec": {
      "name": "python3",
      "display_name": "Python 3"
    },
    "language_info": {
      "name": "python"
    }
  },
  "cells": [
    {
      "cell_type": "markdown",
      "metadata": {
        "id": "view-in-github",
        "colab_type": "text"
      },
      "source": [
        "<a href=\"https://colab.research.google.com/github/HirataChristian/58002_OOP/blob/main/Control_structure.ipynb\" target=\"_parent\"><img src=\"https://colab.research.google.com/assets/colab-badge.svg\" alt=\"Open In Colab\"/></a>"
      ]
    },
    {
      "cell_type": "markdown",
      "source": [
        "Nested If"
      ],
      "metadata": {
        "id": "mkQONgoXy6HY"
      }
    },
    {
      "cell_type": "code",
      "source": [
        "x = 41\n",
        "\n",
        "if x > 10:\n",
        "    print(\"above 10\")\n",
        "else:\n",
        "    print(\"below 10\")\n",
        "\n",
        "if x > 20:\n",
        "    print(\"above 20\")\n",
        "else:\n",
        "    print(\"below 20\")\n",
        "\n",
        "if x > 30:\n",
        "    print(\"above 30\")\n",
        "else:\n",
        "    print(\"below 30\")\n",
        "\n",
        "if x > 40:\n",
        "    print(\"above 40\")\n",
        "else:\n",
        "    print(\"below 40\")\n",
        "\n",
        "if x > 50:\n",
        "    print(\"above 50\")\n",
        "else:\n",
        "    print(\"below 50\")\n",
        "    "
      ],
      "metadata": {
        "colab": {
          "base_uri": "https://localhost:8080/"
        },
        "id": "It-gTf1hy7XJ",
        "outputId": "c43b8057-287d-4e3b-ad63-2e58392c0ce9"
      },
      "execution_count": 1,
      "outputs": [
        {
          "output_type": "stream",
          "name": "stdout",
          "text": [
            "above 10\n",
            "above 20\n",
            "above 30\n",
            "above 40\n",
            "below 50\n"
          ]
        }
      ]
    },
    {
      "cell_type": "markdown",
      "source": [
        "Example 1"
      ],
      "metadata": {
        "id": "NJbZnQ5KzZ-L"
      }
    },
    {
      "cell_type": "code",
      "source": [
        "a = int(input(\"input your age:\"))\n",
        "if a>=17:\n",
        "  print(\"you can vote\")\n",
        "else:\n",
        "    print(\"you're not allowed to vote\")"
      ],
      "metadata": {
        "colab": {
          "base_uri": "https://localhost:8080/"
        },
        "id": "W0h4rMrVzcuT",
        "outputId": "841053b1-9ee0-409d-a0a4-d04ac64bae9d"
      },
      "execution_count": 4,
      "outputs": [
        {
          "output_type": "stream",
          "name": "stdout",
          "text": [
            "input your age:18\n",
            "you can vote\n"
          ]
        }
      ]
    },
    {
      "cell_type": "markdown",
      "source": [
        "Example 2"
      ],
      "metadata": {
        "id": "zfLe0U4J0IAD"
      }
    },
    {
      "cell_type": "code",
      "source": [
        "a = int(input(\"Enter Number:\"))\n",
        "if a>1:\n",
        "  print(\"POSITIVE\")\n",
        "elif a==0:\n",
        "  print(\"ZERO\")\n",
        "else:\n",
        "  print(\"NEGATIVE\")\n"
      ],
      "metadata": {
        "colab": {
          "base_uri": "https://localhost:8080/"
        },
        "id": "czSszdT20JpD",
        "outputId": "a8aa3a5a-2a67-49ac-e9c0-10bd64fe2bf4"
      },
      "execution_count": 6,
      "outputs": [
        {
          "output_type": "stream",
          "name": "stdout",
          "text": [
            "Enter Number:-5\n",
            "NEGATIVE\n"
          ]
        }
      ]
    },
    {
      "cell_type": "markdown",
      "source": [
        "Example 3"
      ],
      "metadata": {
        "id": "zPxnEBfw09hR"
      }
    },
    {
      "cell_type": "code",
      "source": [
        "\n",
        "print(\"Write a program to determine if the grades are: If: Grade > = 75 / Passed, Grade = 74 / Remedial, Failed grade < 74\") \n",
        "print(\" \")\n",
        "print(\"Enter your grade: \")\n",
        "grade = int(input())\n",
        "if grade >= 75:\n",
        "  print(\"You have passed!\")\n",
        "elif grade == 74:\n",
        "  print(\"You need to take a remedial!\")\n",
        "else:\n",
        "  print(\"You failed!\")"
      ],
      "metadata": {
        "colab": {
          "base_uri": "https://localhost:8080/"
        },
        "id": "ZTRvDzYg1CSq",
        "outputId": "401bea4e-88c8-4823-a8d6-00a6971dcfbe"
      },
      "execution_count": 12,
      "outputs": [
        {
          "output_type": "stream",
          "name": "stdout",
          "text": [
            "Write a program to determine if the grades are: If: Grade > = 75 / Passed, Grade = 74 / Remedial, Failed grade < 74\n",
            " \n",
            "Enter your grade: \n",
            "70\n",
            "You failed!\n"
          ]
        }
      ]
    }
  ]
}