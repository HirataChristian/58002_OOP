{
  "cells": [
    {
      "cell_type": "markdown",
      "metadata": {
        "id": "view-in-github",
        "colab_type": "text"
      },
      "source": [
        "<a href=\"https://colab.research.google.com/github/HirataChristian/58002_OOP/blob/main/OOP_Concepts.ipynb\" target=\"_parent\"><img src=\"https://colab.research.google.com/assets/colab-badge.svg\" alt=\"Open In Colab\"/></a>"
      ]
    },
    {
      "cell_type": "code",
      "execution_count": 33,
      "metadata": {
        "colab": {
          "base_uri": "https://localhost:8080/"
        },
        "id": "f_NYWJcxw3o3",
        "outputId": "8ee65f90-d063-44a7-d941-8c3fc4c712ce"
      },
      "outputs": [
        {
          "output_type": "stream",
          "name": "stdout",
          "text": [
            "4\n"
          ]
        }
      ],
      "source": [
        "#Creation of Class\n",
        "class myClass:    #name of class\n",
        "  y=4           #property name\n",
        "p1=myClass()      #create a object\n",
        "print(p1.y)"
      ]
    },
    {
      "cell_type": "code",
      "execution_count": null,
      "metadata": {
        "id": "TFvrufXLx1IW"
      },
      "outputs": [],
      "source": [
        "class myclass:\n",
        "  pass\n",
        "  "
      ]
    },
    {
      "cell_type": "code",
      "execution_count": 34,
      "metadata": {
        "id": "v-qDyndOyGFD"
      },
      "outputs": [],
      "source": [
        "#Creation of Method\n",
        "class Persons:\n",
        "  def __init__(self,name,age):\n",
        "    \n",
        "    self.name = name\n",
        "    self.age = age\n",
        "\n",
        "    def myfunction(self):\n",
        "      print(\"hello, my name is\", self.name)\n",
        "\n",
        "      teacher = Persons(\"Christian\",40)\n",
        "      teacher.myfunction()"
      ]
    },
    {
      "cell_type": "code",
      "execution_count": null,
      "metadata": {
        "id": "kktsauzP1d2-"
      },
      "outputs": [],
      "source": [
        "#Creation of Method\n",
        "class Shapes:\n",
        "  def __init__(self,side):\n",
        "    \n",
        "    self.side = side\n",
        "     \n",
        "\n",
        "    def area(self):\n",
        "      return self.side *self.side\n",
        "\n",
        "    def display(self):\n",
        "      print(\"The area of the square is\", self.area())\n",
        "\n",
        "      square = Shapes(5)\n",
        "      square.area()"
      ]
    },
    {
      "cell_type": "code",
      "execution_count": 35,
      "metadata": {
        "id": "YMdHo71m3v6t"
      },
      "outputs": [],
      "source": [
        "#Creation of Methods\n",
        "\n",
        "class Persons:\n",
        "  def __init__(self,name):\n",
        "    self.name = name\n",
        "    self.age = age\n",
        "    \n",
        "  def myfunction(self):\n",
        "    print(\"Hello, my name is \",self.name)\n",
        "\n",
        "    teacher = Persons(\"Christian\")\n",
        "    teacher.myfunction()\n"
      ]
    },
    {
      "cell_type": "code",
      "source": [
        "class Shapes:\n",
        "    def __init__(self, side1, side2=None):\n",
        "        self.side1 = side1\n",
        "        self.side2 = side2\n",
        "\n",
        "    def area(self):\n",
        "        if self.side2 is None:  # Square\n",
        "            return self.side1 ** 2\n",
        "        else:  # Rectangle\n",
        "            return self.side1 * self.side2\n",
        "\n",
        "    def display(self):\n",
        "        if self.side2 is None:\n",
        "            print(\"The area of the square is\", self.area())\n",
        "        else:\n",
        "            print(\"The area of the rectangle is\", self.area())\n",
        "\n",
        "\n",
        "square = Shapes(5)\n",
        "rectangle = Shapes(5, 10)\n",
        "\n",
        "square.display()  # Output: The area of the square is 25\n",
        "rectangle.display()  # Output: The area of the rectangle is 50"
      ],
      "metadata": {
        "colab": {
          "base_uri": "https://localhost:8080/"
        },
        "id": "SLD8QI3K426g",
        "outputId": "1452f98c-1cf5-4a3a-a46b-b897b25b1a84"
      },
      "execution_count": 36,
      "outputs": [
        {
          "output_type": "stream",
          "name": "stdout",
          "text": [
            "The area of the square is 25\n",
            "The area of the rectangle is 50\n"
          ]
        }
      ]
    },
    {
      "cell_type": "code",
      "source": [
        "class Shapes:\n",
        "  def __init__(self,side):\n",
        "    self.side = side\n",
        "\n",
        "  def area(self):\n",
        "    return self.side *self.side\n",
        "\n",
        "  def display(self):\n",
        "    print(\"The area of the square is\",self.area())\n",
        "\n",
        "square = Shapes(5)\n",
        "print(square.area())\n",
        "print(square.display())\n"
      ],
      "metadata": {
        "colab": {
          "base_uri": "https://localhost:8080/"
        },
        "id": "T7LkdQQA5MCm",
        "outputId": "98ff1290-3e8b-433b-d0c3-3397b1a38725"
      },
      "execution_count": 2,
      "outputs": [
        {
          "output_type": "stream",
          "name": "stdout",
          "text": [
            "25\n",
            "The area of the square is 25\n",
            "None\n"
          ]
        }
      ]
    },
    {
      "cell_type": "code",
      "source": [
        "class Shapes:\n",
        "  def __init__(self,side):\n",
        "    self.side = side\n",
        "\n",
        "  def area(self):\n",
        "    return self.side *self.side\n",
        "\n",
        "  def display(self):\n",
        "    print(\"The area of the square is\",self.area())\n",
        "\n",
        "square = Shapes(5)\n",
        "print(square.area())\n",
        "print(square.display())\n"
      ],
      "metadata": {
        "colab": {
          "base_uri": "https://localhost:8080/"
        },
        "id": "YGBodD0m_R31",
        "outputId": "0160dcba-bcd4-4bfa-8148-a04030ec1a52"
      },
      "execution_count": 1,
      "outputs": [
        {
          "output_type": "stream",
          "name": "stdout",
          "text": [
            "25\n",
            "The area of the square is 25\n",
            "None\n"
          ]
        }
      ]
    },
    {
      "cell_type": "code",
      "source": [
        "#Inheritance\n",
        "\n",
        "class Shapes:\n",
        "  def __init__(self,side1,side2):\n",
        "    self.side1 = side1\n",
        "    self.side2 = side2\n",
        "  \n",
        "class Square(Shapes):\n",
        "  def area_square(self):\n",
        "    return self.side1*self.side1\n",
        "  def display_square(self):\n",
        "    print(\"The area of square is\",self.area_square())\n",
        "\n",
        "\n",
        "class Rectangle(Shapes):\n",
        "  def area_rectangle(self):\n",
        "    print(self.side1*self.side2)\n",
        "  def display_rectangle(self):\n",
        "    print(\"The area of rectangle is\",self.display_rectangle())\n",
        "\n",
        "square = Square(4,4)\n",
        "\n",
        "rectangle = Rectangle(10,5)\n",
        "\n",
        "square.display_square()\n",
        "rectangle.display_rectangle()\n"
      ],
      "metadata": {
        "id": "Ici3dA0Z_m7q"
      },
      "execution_count": null,
      "outputs": []
    },
    {
      "cell_type": "code",
      "source": [
        "class Person:\n",
        "    def __init__(self, name, age, school):\n",
        "        self.name = name\n",
        "        self.age = age\n",
        "        self.school = school\n",
        "\n",
        "    def identity(self):\n",
        "        print(\"Full name:\", self.name)\n",
        "        print(\"Age:\", self.age)\n",
        "        print(\"School:\", self.school)\n",
        "\n",
        "\n",
        "person = Person(\"Christian U. Hirata\", 20, \"Adamson University\")\n",
        "person.identity()"
      ],
      "metadata": {
        "colab": {
          "base_uri": "https://localhost:8080/"
        },
        "id": "00NTH25__-nZ",
        "outputId": "823b1a0b-ec69-430d-9454-16a6257a0a4a"
      },
      "execution_count": 1,
      "outputs": [
        {
          "output_type": "stream",
          "name": "stdout",
          "text": [
            "Full name: Christian U. Hirata\n",
            "Age: 20\n",
            "School: Adamson University\n"
          ]
        }
      ]
    }
  ],
  "metadata": {
    "colab": {
      "provenance": [],
      "authorship_tag": "ABX9TyO+Qs4BbwEXbtJ+odCjrJos",
      "include_colab_link": true
    },
    "kernelspec": {
      "display_name": "Python 3",
      "name": "python3"
    },
    "language_info": {
      "name": "python"
    }
  },
  "nbformat": 4,
  "nbformat_minor": 0
}