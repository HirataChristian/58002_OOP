{
  "nbformat": 4,
  "nbformat_minor": 0,
  "metadata": {
    "colab": {
      "provenance": [],
      "authorship_tag": "ABX9TyP0Opiwuh2EZ52a5hiLR4KY",
      "include_colab_link": true
    },
    "kernelspec": {
      "name": "python3",
      "display_name": "Python 3"
    },
    "language_info": {
      "name": "python"
    }
  },
  "cells": [
    {
      "cell_type": "markdown",
      "metadata": {
        "id": "view-in-github",
        "colab_type": "text"
      },
      "source": [
        "<a href=\"https://colab.research.google.com/github/HirataChristian/58002_OOP/blob/main/Python_Programming.ipynb\" target=\"_parent\"><img src=\"https://colab.research.google.com/assets/colab-badge.svg\" alt=\"Open In Colab\"/></a>"
      ]
    },
    {
      "cell_type": "code",
      "execution_count": null,
      "metadata": {
        "colab": {
          "base_uri": "https://localhost:8080/"
        },
        "id": "U7Xk9XhYwaQs",
        "outputId": "7eaf60a3-7594-4a93-dd2d-241578fc54fe"
      },
      "outputs": [
        {
          "output_type": "stream",
          "name": "stdout",
          "text": [
            "Hello,World\n"
          ]
        }
      ],
      "source": [
        "\n",
        "print(\"Hello,World\")\n"
      ]
    },
    {
      "cell_type": "code",
      "source": [
        "x = 1\n",
        "\n",
        "y = 2 \n",
        "print (x)\n",
        "print (y)"
      ],
      "metadata": {
        "colab": {
          "base_uri": "https://localhost:8080/"
        },
        "id": "cdnUY8fOyjzw",
        "outputId": "34478f24-6bde-45ac-e754-bcde1489cb4d"
      },
      "execution_count": null,
      "outputs": [
        {
          "output_type": "stream",
          "name": "stdout",
          "text": [
            "1\n",
            "2\n"
          ]
        }
      ]
    },
    {
      "cell_type": "code",
      "source": [
        "k = \"enjoying\"\n",
        "j = \"Python Programming is\"\n",
        "print(\"Python Programming is \" +\" \"+ k)\n",
        "print(j+k)"
      ],
      "metadata": {
        "colab": {
          "base_uri": "https://localhost:8080/"
        },
        "id": "ugk0nkqk45WV",
        "outputId": "50d79374-c5ae-4904-bc7a-cf72613fe1c9"
      },
      "execution_count": null,
      "outputs": [
        {
          "output_type": "stream",
          "name": "stdout",
          "text": [
            "Python Programming is  enjoying\n",
            "Python Programming isenjoying\n"
          ]
        }
      ]
    },
    {
      "cell_type": "code",
      "source": [
        "if 5>2:\n",
        "  print(\"five is greater two!\")"
      ],
      "metadata": {
        "id": "rrDgWuz2-KM-",
        "outputId": "b8c9b6c6-e761-4729-e564-ce846e379bae",
        "colab": {
          "base_uri": "https://localhost:8080/"
        }
      },
      "execution_count": null,
      "outputs": [
        {
          "output_type": "stream",
          "name": "stdout",
          "text": [
            "five is greater two!\n"
          ]
        }
      ]
    },
    {
      "cell_type": "code",
      "source": [
        "b =\"sally\"\n",
        "b= int(4)\n",
        "print(b)\n",
        "b=float(4)\n",
        "print(b)"
      ],
      "metadata": {
        "id": "EjiZPbO8-SfO",
        "outputId": "bf7fcc56-df4a-457b-cc85-44777d1c0f61",
        "colab": {
          "base_uri": "https://localhost:8080/"
        }
      },
      "execution_count": null,
      "outputs": [
        {
          "output_type": "stream",
          "name": "stdout",
          "text": [
            "4\n",
            "4.0\n"
          ]
        }
      ]
    },
    {
      "cell_type": "code",
      "source": [
        "x = 5\n",
        "y= \"john\"\n",
        "print(type(x))\n",
        "print(type(y))\n"
      ],
      "metadata": {
        "id": "oUxPokRP-VYu",
        "outputId": "6c5d57ce-e750-43ff-e2d8-ef8cd169edfd",
        "colab": {
          "base_uri": "https://localhost:8080/"
        }
      },
      "execution_count": null,
      "outputs": [
        {
          "output_type": "stream",
          "name": "stdout",
          "text": [
            "<class 'int'>\n",
            "<class 'str'>\n"
          ]
        }
      ]
    },
    {
      "cell_type": "code",
      "source": [
        "a = \"Hello\"\n",
        "A = \"Sally\"\n",
        "b = A + a\n",
        "print(b)"
      ],
      "metadata": {
        "id": "whZjjF3D-7_I",
        "outputId": "1c12c70c-0207-475a-b057-cb693dff6706",
        "colab": {
          "base_uri": "https://localhost:8080/"
        }
      },
      "execution_count": null,
      "outputs": [
        {
          "output_type": "stream",
          "name": "stdout",
          "text": [
            "SallyHello\n"
          ]
        }
      ]
    },
    {
      "cell_type": "code",
      "source": [
        "x = y = z = \"four\"\n",
        "print(x)\n",
        "print(y)\n",
        "print(z)"
      ],
      "metadata": {
        "id": "pDDEgHQy_cS_",
        "outputId": "a770707f-9d63-42dc-f01e-d160aa1702e3",
        "colab": {
          "base_uri": "https://localhost:8080/"
        }
      },
      "execution_count": null,
      "outputs": [
        {
          "output_type": "stream",
          "name": "stdout",
          "text": [
            "four\n",
            "four\n",
            "four\n"
          ]
        }
      ]
    },
    {
      "cell_type": "code",
      "source": [
        "x = \"enjoying\"\n",
        "print(\"python Programming is\" + x)"
      ],
      "metadata": {
        "id": "fgFJaCvo_uug",
        "outputId": "0635a49b-dae3-4611-b97f-e74969c7576a",
        "colab": {
          "base_uri": "https://localhost:8080/"
        }
      },
      "execution_count": null,
      "outputs": [
        {
          "output_type": "stream",
          "name": "stdout",
          "text": [
            "python Programming isenjoying\n"
          ]
        }
      ]
    },
    {
      "cell_type": "code",
      "source": [
        "x = 5\n",
        "y= 3\n",
        "print(x+y)"
      ],
      "metadata": {
        "id": "PxzBF-Tg_57_",
        "outputId": "d7453bbc-97e0-4d7b-ea76-1a12c5f17955",
        "colab": {
          "base_uri": "https://localhost:8080/"
        }
      },
      "execution_count": null,
      "outputs": [
        {
          "output_type": "stream",
          "name": "stdout",
          "text": [
            "8\n"
          ]
        }
      ]
    },
    {
      "cell_type": "code",
      "source": [
        "x = 5\n",
        "y= 3\n",
        "sum = x + y\n",
        "sum"
      ],
      "metadata": {
        "id": "Sh0A_VIIAE9X",
        "outputId": "a8bd4609-f508-493d-8dec-3c6eb5406119",
        "colab": {
          "base_uri": "https://localhost:8080/"
        }
      },
      "execution_count": null,
      "outputs": [
        {
          "output_type": "execute_result",
          "data": {
            "text/plain": [
              "8"
            ]
          },
          "metadata": {},
          "execution_count": 13
        }
      ]
    },
    {
      "cell_type": "code",
      "source": [
        "print(18>9)\n",
        "a=6\n",
        "b=7\n",
        "print(a==b)\n",
        "print(a!=a)\n"
      ],
      "metadata": {
        "id": "AIcZym2WAPQH",
        "outputId": "fed798ac-bba4-43dc-edec-72a140b774fc",
        "colab": {
          "base_uri": "https://localhost:8080/"
        }
      },
      "execution_count": null,
      "outputs": [
        {
          "output_type": "stream",
          "name": "stdout",
          "text": [
            "True\n",
            "False\n",
            "False\n"
          ]
        }
      ]
    },
    {
      "cell_type": "code",
      "source": [
        "print(10+5)\n",
        "print(10-5)\n",
        "print(10*5)\n",
        "print(10/5)"
      ],
      "metadata": {
        "id": "EflFGpBrAiBg",
        "outputId": "64a6ba7a-a54c-4591-eef9-db44bd96fee2",
        "colab": {
          "base_uri": "https://localhost:8080/"
        }
      },
      "execution_count": null,
      "outputs": [
        {
          "output_type": "stream",
          "name": "stdout",
          "text": [
            "15\n",
            "5\n",
            "50\n",
            "2.0\n"
          ]
        }
      ]
    },
    {
      "cell_type": "code",
      "source": [
        "print(10%5)\n",
        "print(10//3)\n",
        "print(10**2)"
      ],
      "metadata": {
        "id": "7CsLMeS5Auuo",
        "outputId": "2240e1bd-1c35-48b8-d8f4-447343846471",
        "colab": {
          "base_uri": "https://localhost:8080/"
        }
      },
      "execution_count": null,
      "outputs": [
        {
          "output_type": "stream",
          "name": "stdout",
          "text": [
            "0\n",
            "3\n",
            "100\n"
          ]
        }
      ]
    },
    {
      "cell_type": "code",
      "source": [
        "print(\"basic calculator\")\n",
        "print(\"enter first number\")\n",
        "x= int(input())\n",
        "print(\"enter second number\")\n",
        "y = int(input())\n",
        "z = \"answers:\"\n",
        "\n",
        "print(z)\n",
        "print(x+y)\n",
        "print(x-y)\n",
        "print(x*y)\n",
        "print(x/y)\n",
        "print(x%y)"
      ],
      "metadata": {
        "id": "5kBr7dsPI6cI",
        "outputId": "ae4966c6-12fe-4e96-9ec8-5973aaf9d710",
        "colab": {
          "base_uri": "https://localhost:8080/"
        }
      },
      "execution_count": 21,
      "outputs": [
        {
          "output_type": "stream",
          "name": "stdout",
          "text": [
            "basic calculator\n",
            "enter first number\n",
            "2\n",
            "enter second number\n",
            "2\n",
            "answers:\n",
            "4\n",
            "0\n",
            "4\n",
            "1.0\n",
            "0\n"
          ]
        }
      ]
    },
    {
      "cell_type": "code",
      "source": [
        "def calculator():\n",
        "    while True:\n",
        "        print(\"\\nEnter an operation (+, -, *, /, or q to quit): \")\n",
        "        user_input = input()\n",
        "\n",
        "        if user_input == \"q\":\n",
        "            break\n",
        "        elif user_input in [\"+\", \"-\", \"*\", \"/\"]:\n",
        "            num1 = float(input(\"Enter a number: \"))\n",
        "            num2 = float(input(\"Enter another number: \"))\n",
        "            if user_input == \"+\":\n",
        "                result = num1 + num2\n",
        "            elif user_input == \"-\":\n",
        "                result = num1 - num2\n",
        "            elif user_input == \"*\":\n",
        "                result = num1 * num2\n",
        "            elif user_input == \"/\":\n",
        "                result = num1 / num2\n",
        "            print(\"Result:\", result)\n",
        "        else:\n",
        "            print(\"Unknown input\")\n",
        "\n",
        "calculator()"
      ],
      "metadata": {
        "id": "qSEHPat6JBnf"
      },
      "execution_count": null,
      "outputs": []
    }
  ]
}