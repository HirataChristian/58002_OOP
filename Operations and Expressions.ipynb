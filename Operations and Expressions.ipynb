{
  "nbformat": 4,
  "nbformat_minor": 0,
  "metadata": {
    "colab": {
      "provenance": [],
      "authorship_tag": "ABX9TyOWnsyHR1wCLs/Zpq+xQR1U",
      "include_colab_link": true
    },
    "kernelspec": {
      "name": "python3",
      "display_name": "Python 3"
    },
    "language_info": {
      "name": "python"
    }
  },
  "cells": [
    {
      "cell_type": "markdown",
      "metadata": {
        "id": "view-in-github",
        "colab_type": "text"
      },
      "source": [
        "<a href=\"https://colab.research.google.com/github/HirataChristian/58002_OOP/blob/main/Operations%20and%20Expressions.ipynb\" target=\"_parent\"><img src=\"https://colab.research.google.com/assets/colab-badge.svg\" alt=\"Open In Colab\"/></a>"
      ]
    },
    {
      "cell_type": "code",
      "execution_count": 1,
      "metadata": {
        "colab": {
          "base_uri": "https://localhost:8080/"
        },
        "id": "52eUF0oNMP-K",
        "outputId": "b9124e32-8919-4724-c466-8fc1869baa38"
      },
      "outputs": [
        {
          "output_type": "stream",
          "name": "stdout",
          "text": [
            "basic calculator\n",
            "enter first number\n",
            "5\n",
            "enter second number\n",
            "5\n",
            "answers:\n",
            "10\n",
            "0\n",
            "25\n",
            "1.0\n",
            "0\n"
          ]
        }
      ],
      "source": [
        "print(\"basic calculator\")\n",
        "print(\"enter first number\")\n",
        "x= int(input())\n",
        "print(\"enter second number\")\n",
        "y = int(input())\n",
        "z = \"answers:\"\n",
        "\n",
        "print(z)\n",
        "print(x+y)\n",
        "print(x-y)\n",
        "print(x*y)\n",
        "print(x/y)\n",
        "print(x%y)"
      ]
    }
  ]
}