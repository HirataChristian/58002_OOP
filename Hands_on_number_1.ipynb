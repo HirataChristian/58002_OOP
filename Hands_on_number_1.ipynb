{
  "nbformat": 4,
  "nbformat_minor": 0,
  "metadata": {
    "colab": {
      "provenance": [],
      "authorship_tag": "ABX9TyPTWkW+OcwEiGzGATgi4+Kf",
      "include_colab_link": true
    },
    "kernelspec": {
      "name": "python3",
      "display_name": "Python 3"
    },
    "language_info": {
      "name": "python"
    }
  },
  "cells": [
    {
      "cell_type": "markdown",
      "metadata": {
        "id": "view-in-github",
        "colab_type": "text"
      },
      "source": [
        "<a href=\"https://colab.research.google.com/github/HirataChristian/58002_OOP/blob/main/Hands_on_number_1.ipynb\" target=\"_parent\"><img src=\"https://colab.research.google.com/assets/colab-badge.svg\" alt=\"Open In Colab\"/></a>"
      ]
    },
    {
      "cell_type": "markdown",
      "source": [
        "Hands on number 1\n",
        "\n"
      ],
      "metadata": {
        "id": "y3f1Wt-a-pBT"
      }
    },
    {
      "cell_type": "code",
      "source": [
        "class Person:\n",
        "    def __init__(self, std1, std2, std3, pre, mid, fin):\n",
        "        self.std1 = std1\n",
        "        self.std2 = std2\n",
        "        self.std3 = std3\n",
        "        self.pre = pre\n",
        "        self.mid = mid\n",
        "        self.fin = fin\n",
        "\n",
        "    def display(self):\n",
        "        print(self.__std, \", your prelim grade is\", self.__pre)\n",
        "        print(self.__std, \", your midterm grade is\", self.__mid)\n",
        "        print(self.__std, \", your finals grade is\", self.__fin)\n",
        "\n",
        "\n",
        "\n",
        "\n",
        "    def grade(self):\n",
        "        return (self.pre + self.mid + self.fin) / 3\n",
        "        print()\n",
        "        \n",
        "\n",
        "class std1(Person):\n",
        "    pass\n",
        "\n",
        "\n",
        "class std2(Person):\n",
        "    pass\n",
        "\n",
        "\n",
        "class std3(Person):\n",
        "    pass\n",
        "       \n",
        "\n",
        "\n",
        "student1 = Person(90, 85, 95, 80, 85, 90)\n",
        "student1.display()\n",
        "student1.grade()\n",
        "\n",
        "\n",
        "student2 = Person(75, 80, 85, 70, 75, 80)\n",
        "student2.display()\n",
        "student2.grade()\n",
        "\n",
        "\n",
        "\n",
        "student3 = Person(85, 90, 80, 75, 80, 85)\n",
        "student3.display()\n",
        "student3.grade()\n",
        "\n",
        "\n",
        "\n",
        "\n",
        "\n",
        "\n",
        "   \n",
        "\n",
        "\n",
        "\n",
        "\n",
        "\n",
        "\n"
      ],
      "metadata": {
        "colab": {
          "base_uri": "https://localhost:8080/",
          "height": 357
        },
        "id": "WX_U84yx-s4L",
        "outputId": "47b2cffc-fcf7-4640-ce68-23732fac92c5"
      },
      "execution_count": 96,
      "outputs": [
        {
          "output_type": "error",
          "ename": "AttributeError",
          "evalue": "ignored",
          "traceback": [
            "\u001b[0;31m---------------------------------------------------------------------------\u001b[0m",
            "\u001b[0;31mAttributeError\u001b[0m                            Traceback (most recent call last)",
            "\u001b[0;32m<ipython-input-96-7fa396793346>\u001b[0m in \u001b[0;36m<module>\u001b[0;34m\u001b[0m\n\u001b[1;32m     35\u001b[0m \u001b[0;34m\u001b[0m\u001b[0m\n\u001b[1;32m     36\u001b[0m \u001b[0mstudent1\u001b[0m \u001b[0;34m=\u001b[0m \u001b[0mPerson\u001b[0m\u001b[0;34m(\u001b[0m\u001b[0;36m90\u001b[0m\u001b[0;34m,\u001b[0m \u001b[0;36m85\u001b[0m\u001b[0;34m,\u001b[0m \u001b[0;36m95\u001b[0m\u001b[0;34m,\u001b[0m \u001b[0;36m80\u001b[0m\u001b[0;34m,\u001b[0m \u001b[0;36m85\u001b[0m\u001b[0;34m,\u001b[0m \u001b[0;36m90\u001b[0m\u001b[0;34m)\u001b[0m\u001b[0;34m\u001b[0m\u001b[0;34m\u001b[0m\u001b[0m\n\u001b[0;32m---> 37\u001b[0;31m \u001b[0mstudent1\u001b[0m\u001b[0;34m.\u001b[0m\u001b[0mdisplay\u001b[0m\u001b[0;34m(\u001b[0m\u001b[0;34m)\u001b[0m\u001b[0;34m\u001b[0m\u001b[0;34m\u001b[0m\u001b[0m\n\u001b[0m\u001b[1;32m     38\u001b[0m \u001b[0mstudent1\u001b[0m\u001b[0;34m.\u001b[0m\u001b[0mgrade\u001b[0m\u001b[0;34m(\u001b[0m\u001b[0;34m)\u001b[0m\u001b[0;34m\u001b[0m\u001b[0;34m\u001b[0m\u001b[0m\n\u001b[1;32m     39\u001b[0m \u001b[0;34m\u001b[0m\u001b[0m\n",
            "\u001b[0;32m<ipython-input-96-7fa396793346>\u001b[0m in \u001b[0;36mdisplay\u001b[0;34m(self)\u001b[0m\n\u001b[1;32m      9\u001b[0m \u001b[0;34m\u001b[0m\u001b[0m\n\u001b[1;32m     10\u001b[0m     \u001b[0;32mdef\u001b[0m \u001b[0mdisplay\u001b[0m\u001b[0;34m(\u001b[0m\u001b[0mself\u001b[0m\u001b[0;34m)\u001b[0m\u001b[0;34m:\u001b[0m\u001b[0;34m\u001b[0m\u001b[0;34m\u001b[0m\u001b[0m\n\u001b[0;32m---> 11\u001b[0;31m         \u001b[0mprint\u001b[0m\u001b[0;34m(\u001b[0m\u001b[0mself\u001b[0m\u001b[0;34m.\u001b[0m\u001b[0m__std\u001b[0m\u001b[0;34m,\u001b[0m \u001b[0;34m\", your prelim grade is\"\u001b[0m\u001b[0;34m,\u001b[0m \u001b[0mself\u001b[0m\u001b[0;34m.\u001b[0m\u001b[0m__pre\u001b[0m\u001b[0;34m)\u001b[0m\u001b[0;34m\u001b[0m\u001b[0;34m\u001b[0m\u001b[0m\n\u001b[0m\u001b[1;32m     12\u001b[0m         \u001b[0mprint\u001b[0m\u001b[0;34m(\u001b[0m\u001b[0mself\u001b[0m\u001b[0;34m.\u001b[0m\u001b[0m__std\u001b[0m\u001b[0;34m,\u001b[0m \u001b[0;34m\", your midterm grade is\"\u001b[0m\u001b[0;34m,\u001b[0m \u001b[0mself\u001b[0m\u001b[0;34m.\u001b[0m\u001b[0m__mid\u001b[0m\u001b[0;34m)\u001b[0m\u001b[0;34m\u001b[0m\u001b[0;34m\u001b[0m\u001b[0m\n\u001b[1;32m     13\u001b[0m         \u001b[0mprint\u001b[0m\u001b[0;34m(\u001b[0m\u001b[0mself\u001b[0m\u001b[0;34m.\u001b[0m\u001b[0m__std\u001b[0m\u001b[0;34m,\u001b[0m \u001b[0;34m\", your finals grade is\"\u001b[0m\u001b[0;34m,\u001b[0m \u001b[0mself\u001b[0m\u001b[0;34m.\u001b[0m\u001b[0m__fin\u001b[0m\u001b[0;34m)\u001b[0m\u001b[0;34m\u001b[0m\u001b[0;34m\u001b[0m\u001b[0m\n",
            "\u001b[0;31mAttributeError\u001b[0m: 'Person' object has no attribute '_Person__std'"
          ]
        }
      ]
    },
    {
      "cell_type": "code",
      "source": [
        "class Person:\n",
        "    def __init__(self, std1, std2, std3, pre, mid, fin):\n",
        "        self.std1 = std1\n",
        "        self.std2 = std2\n",
        "        self.std3 = std3\n",
        "        self.pre = pre\n",
        "        self.mid = mid\n",
        "        self.fin = fin\n",
        "\n",
        "  \n",
        "\n",
        "\n",
        "\n",
        "\n",
        "\n",
        "\n",
        "\n",
        "    def grade(self):\n",
        "        return (self.pre + self.mid + self.fin) / 3\n",
        "        print()\n",
        "        \n",
        "\n",
        "class std1(Person):\n",
        "    pass\n",
        "\n",
        "\n",
        "class std2(Person):\n",
        "    pass\n",
        "\n",
        "\n",
        "class std3(Person):\n",
        "    pass\n",
        "       \n",
        "\n",
        "\n",
        "student1 = Person(90, 85, 95, 80, 85, 90)\n",
        "student1.grade()\n",
        "\n",
        "\n",
        "student2 = Person(75, 80, 85, 70, 75, 80)\n",
        "student2.grade()\n",
        "\n",
        "\n",
        "\n",
        "student3 = Person(85, 90, 80, 75, 80, 85)\n",
        "student3.grade()\n",
        "\n",
        "\n",
        "\n",
        "\n",
        "\n",
        "\n",
        "   \n",
        "\n",
        "\n",
        "\n",
        "\n",
        "\n",
        "\n"
      ],
      "metadata": {
        "colab": {
          "base_uri": "https://localhost:8080/"
        },
        "id": "zMMGBp9cV-et",
        "outputId": "c5fdbb0e-c2ba-450d-cab7-2fceccc25998"
      },
      "execution_count": 95,
      "outputs": [
        {
          "output_type": "execute_result",
          "data": {
            "text/plain": [
              "80.0"
            ]
          },
          "metadata": {},
          "execution_count": 95
        }
      ]
    },
    {
      "cell_type": "code",
      "source": [
        "class Person:\n",
        "    def __init__(self, std1, std2, std3, pre, mid, fin):\n",
        "        self.std1 = std1\n",
        "        self.std2 = std2\n",
        "        self.std3 = std3\n",
        "        self.pre = pre\n",
        "        self.mid = mid\n",
        "        self.fin = fin\n",
        "\n",
        "    def display(self):\n",
        "        print(\"Student 1, your prelim grade is\", self.std1)\n",
        "        print(\"Student 2, your midterm grade is\", self.std2)\n",
        "        print(\"Student 3, your finals grade is\", self.std3)\n",
        "\n",
        "    def grade(self):\n",
        "        return (self.pre + self.mid + self.fin) / 3\n",
        "\n",
        "class std1(Person):\n",
        "    pass\n",
        "\n",
        "class std2(Person):\n",
        "    pass\n",
        "\n",
        "class std3(Person):\n",
        "    pass\n",
        "\n",
        "student1 = std1(90, 85, 95, 80, 85, 90)\n",
        "student1.display()\n",
        "print(\"Student 1 average grade is\", student1.grade())\n",
        "\n",
        "student2 = std2(75, 80, 85, 70, 75, 80)\n",
        "student2.display()\n",
        "print(\"Student 2 average grade is\", student2.grade())\n",
        "\n",
        "student3 = std3(85, 90, 80, 75, 80, 85)\n",
        "student3.display()\n",
        "print(\"Student 3 average grade is\", student3.grade())\n"
      ],
      "metadata": {
        "colab": {
          "base_uri": "https://localhost:8080/"
        },
        "id": "rEiWPeIVZn7R",
        "outputId": "3927ba2d-fdeb-4653-97a2-7d62091277bb"
      },
      "execution_count": 97,
      "outputs": [
        {
          "output_type": "stream",
          "name": "stdout",
          "text": [
            "Student 1, your prelim grade is 90\n",
            "Student 2, your midterm grade is 85\n",
            "Student 3, your finals grade is 95\n",
            "Student 1 average grade is 85.0\n",
            "Student 1, your prelim grade is 75\n",
            "Student 2, your midterm grade is 80\n",
            "Student 3, your finals grade is 85\n",
            "Student 2 average grade is 75.0\n",
            "Student 1, your prelim grade is 85\n",
            "Student 2, your midterm grade is 90\n",
            "Student 3, your finals grade is 80\n",
            "Student 3 average grade is 80.0\n"
          ]
        }
      ]
    },
    {
      "cell_type": "markdown",
      "source": [
        "1. create a python program that displays the name of three students (student 1, student 2, and student 3) and the term grades\n",
        "2. create a class name person and attributes - std1, std2 std3, pre, mid, fin\n",
        "3. compute the average of each term grade using greade()method\n",
        "4.information about students grades must be hidden form others"
      ],
      "metadata": {
        "id": "6GqBRMp4DgSM"
      }
    }
  ]
}